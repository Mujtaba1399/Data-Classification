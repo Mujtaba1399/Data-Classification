{
 "cells": [
  {
   "cell_type": "markdown",
   "id": "460af78d",
   "metadata": {},
   "source": [
    "### Importing Libraries"
   ]
  },
  {
   "cell_type": "code",
   "execution_count": null,
   "id": "8548b013",
   "metadata": {},
   "outputs": [],
   "source": [
    "import pandas as pd\n",
    "import seaborn as sns\n",
    "from matplotlib import pyplot as plt\n",
    "from sklearn.neighbors import KNeighborsClassifier\n",
    "from sklearn import preprocessing\n",
    "from sklearn.metrics import accuracy_score\n",
    "from sklearn.preprocessing import StandardScaler, LabelEncoder\n",
    "from sklearn.linear_model import LogisticRegression\n",
    "from sklearn.metrics import confusion_matrix\n",
    "from sklearn.metrics import classification_report"
   ]
  },
  {
   "cell_type": "markdown",
   "id": "0a2b877b",
   "metadata": {},
   "source": [
    "### Reading Data"
   ]
  },
  {
   "cell_type": "code",
   "execution_count": null,
   "id": "8620199e",
   "metadata": {},
   "outputs": [],
   "source": [
    "# Training dataset"
   ]
  },
  {
   "cell_type": "code",
   "execution_count": null,
   "id": "81ec8fb1",
   "metadata": {},
   "outputs": [],
   "source": [
    "data = pd.read_csv('adult.data',sep=\",\")\n",
    "data.columns = ['age','workclass','fnlwgt','education','education-num','marital-status','occupation','relationship','race','sex','capitial-gain','capitial-loss','hours-per-week','native-country','income']\n",
    "# data"
   ]
  },
  {
   "cell_type": "code",
   "execution_count": null,
   "id": "bcd50e33",
   "metadata": {},
   "outputs": [],
   "source": [
    "# Test dataset"
   ]
  },
  {
   "cell_type": "code",
   "execution_count": null,
   "id": "955ff50f",
   "metadata": {},
   "outputs": [],
   "source": [
    "test = pd.read_csv('adult.test',sep=\",\")\n",
    "test.columns = ['age','workclass','fnlwgt','education','education-num','marital-status','occupation','relationship','race','sex','capitial-gain','capitial-loss','hours-per-week','native-country','income']\n",
    "test"
   ]
  },
  {
   "cell_type": "code",
   "execution_count": null,
   "id": "faf70d1d",
   "metadata": {},
   "outputs": [],
   "source": [
    "# columns and their data type"
   ]
  },
  {
   "cell_type": "code",
   "execution_count": null,
   "id": "e8fb2456",
   "metadata": {},
   "outputs": [],
   "source": [
    "data.dtypes"
   ]
  },
  {
   "cell_type": "code",
   "execution_count": null,
   "id": "1571a10e",
   "metadata": {},
   "outputs": [],
   "source": [
    "# shape of data"
   ]
  },
  {
   "cell_type": "code",
   "execution_count": null,
   "id": "5acb0478",
   "metadata": {},
   "outputs": [],
   "source": [
    "data.shape"
   ]
  },
  {
   "cell_type": "markdown",
   "id": "0d9dbadc",
   "metadata": {},
   "source": [
    "### Getting unique values from each column"
   ]
  },
  {
   "cell_type": "code",
   "execution_count": null,
   "id": "4db48960",
   "metadata": {},
   "outputs": [],
   "source": [
    "# unique values in marital-status"
   ]
  },
  {
   "cell_type": "code",
   "execution_count": null,
   "id": "886f5409",
   "metadata": {},
   "outputs": [],
   "source": [
    "data['marital-status'].unique()"
   ]
  },
  {
   "cell_type": "code",
   "execution_count": null,
   "id": "723b98ac",
   "metadata": {},
   "outputs": [],
   "source": [
    "# unique value in income"
   ]
  },
  {
   "cell_type": "code",
   "execution_count": null,
   "id": "7ff434c7",
   "metadata": {},
   "outputs": [],
   "source": [
    "data['income'].unique()"
   ]
  },
  {
   "cell_type": "code",
   "execution_count": null,
   "id": "32a1944e",
   "metadata": {},
   "outputs": [],
   "source": [
    "# unique value in education"
   ]
  },
  {
   "cell_type": "code",
   "execution_count": null,
   "id": "d85e5f09",
   "metadata": {},
   "outputs": [],
   "source": [
    "data['education'].unique()"
   ]
  },
  {
   "cell_type": "code",
   "execution_count": null,
   "id": "71c97b28",
   "metadata": {},
   "outputs": [],
   "source": [
    "# droping null and duplicate rows, if any"
   ]
  },
  {
   "cell_type": "code",
   "execution_count": null,
   "id": "02c57d13",
   "metadata": {},
   "outputs": [],
   "source": [
    "data = data.dropna(how='any',axis=0)\n",
    "data = data.drop_duplicates()\n",
    "# data"
   ]
  },
  {
   "cell_type": "code",
   "execution_count": null,
   "id": "93ab80a1",
   "metadata": {},
   "outputs": [],
   "source": [
    "# cheching for any remaining values"
   ]
  },
  {
   "cell_type": "code",
   "execution_count": null,
   "id": "c40b70f4",
   "metadata": {},
   "outputs": [],
   "source": [
    "data.isnull().values.any()"
   ]
  },
  {
   "cell_type": "code",
   "execution_count": null,
   "id": "7e1e8845",
   "metadata": {},
   "outputs": [],
   "source": [
    "# checking for null values in each column"
   ]
  },
  {
   "cell_type": "code",
   "execution_count": null,
   "id": "4a153888",
   "metadata": {},
   "outputs": [],
   "source": [
    "data.isnull().sum()"
   ]
  },
  {
   "cell_type": "code",
   "execution_count": null,
   "id": "52801339",
   "metadata": {},
   "outputs": [],
   "source": [
    "# frequency of values in workclass"
   ]
  },
  {
   "cell_type": "code",
   "execution_count": null,
   "id": "40cff745",
   "metadata": {},
   "outputs": [],
   "source": [
    "data['workclass'].value_counts()"
   ]
  },
  {
   "cell_type": "code",
   "execution_count": null,
   "id": "68f8179c",
   "metadata": {},
   "outputs": [],
   "source": [
    "# frequency of values in occupation"
   ]
  },
  {
   "cell_type": "code",
   "execution_count": null,
   "id": "f8fa3cec",
   "metadata": {},
   "outputs": [],
   "source": [
    "data['occupation'].value_counts()"
   ]
  },
  {
   "cell_type": "code",
   "execution_count": null,
   "id": "c83a00c2",
   "metadata": {},
   "outputs": [],
   "source": [
    "# frequency of values in native-country"
   ]
  },
  {
   "cell_type": "code",
   "execution_count": null,
   "id": "0336fadb",
   "metadata": {},
   "outputs": [],
   "source": [
    "data['native-country'].value_counts()"
   ]
  },
  {
   "cell_type": "code",
   "execution_count": null,
   "id": "95a6944d",
   "metadata": {},
   "outputs": [],
   "source": [
    "# frequency of values in marital-status"
   ]
  },
  {
   "cell_type": "code",
   "execution_count": null,
   "id": "90b91bbf",
   "metadata": {},
   "outputs": [],
   "source": [
    "data['marital-status'].value_counts()"
   ]
  },
  {
   "cell_type": "code",
   "execution_count": null,
   "id": "1e1b0a17",
   "metadata": {},
   "outputs": [],
   "source": [
    "# frequency of values in sex"
   ]
  },
  {
   "cell_type": "code",
   "execution_count": null,
   "id": "b1f8bb9e",
   "metadata": {},
   "outputs": [],
   "source": [
    "data['sex'].value_counts()"
   ]
  },
  {
   "cell_type": "code",
   "execution_count": null,
   "id": "e8ea684a",
   "metadata": {},
   "outputs": [],
   "source": [
    "# frequency of values in race"
   ]
  },
  {
   "cell_type": "code",
   "execution_count": null,
   "id": "2c3c47c8",
   "metadata": {},
   "outputs": [],
   "source": [
    "data['race'].value_counts()"
   ]
  },
  {
   "cell_type": "code",
   "execution_count": null,
   "id": "c3f2c041",
   "metadata": {},
   "outputs": [],
   "source": [
    "# frequency of values in income"
   ]
  },
  {
   "cell_type": "code",
   "execution_count": null,
   "id": "41e78424",
   "metadata": {},
   "outputs": [],
   "source": [
    "data['income'].value_counts()"
   ]
  },
  {
   "cell_type": "code",
   "execution_count": null,
   "id": "67cef8d9",
   "metadata": {},
   "outputs": [],
   "source": [
    "# frequency of values in education"
   ]
  },
  {
   "cell_type": "code",
   "execution_count": null,
   "id": "56e0404e",
   "metadata": {},
   "outputs": [],
   "source": [
    "data['education'].value_counts()"
   ]
  },
  {
   "cell_type": "markdown",
   "id": "25142d23",
   "metadata": {},
   "source": [
    "### Replacing ? values"
   ]
  },
  {
   "cell_type": "code",
   "execution_count": null,
   "id": "0f902025",
   "metadata": {},
   "outputs": [],
   "source": [
    "data['workclass'] = data['workclass'].replace(' ?', 'Private')\n",
    "data['occupation'] = data['occupation'].replace(' ?', 'Prof-specialty')\n",
    "data['native-country'] = data['native-country'].replace(' ?', 'United-States')\n",
    "# data"
   ]
  },
  {
   "cell_type": "code",
   "execution_count": null,
   "id": "ca17432d",
   "metadata": {},
   "outputs": [],
   "source": [
    "test['workclass'] = test['workclass'].replace(' ?', 'Private')\n",
    "test['occupation'] = test['occupation'].replace(' ?', 'Prof-specialty')\n",
    "test['native-country'] = test['native-country'].replace(' ?', 'United-States')"
   ]
  },
  {
   "cell_type": "markdown",
   "id": "79764659",
   "metadata": {},
   "source": [
    "### Normalization"
   ]
  },
  {
   "cell_type": "code",
   "execution_count": null,
   "id": "841d6893",
   "metadata": {},
   "outputs": [],
   "source": [
    "# Normalizing values in education"
   ]
  },
  {
   "cell_type": "code",
   "execution_count": null,
   "id": "90cb9b38",
   "metadata": {},
   "outputs": [],
   "source": [
    "data.education = data.education.replace([' Preschool', ' 1st-4th', ' 5th-6th', ' 7th-8th', ' 9th',' 10th', ' 11th', ' 12th'], 'school')\n",
    "data.education = data.education.replace(' HS-grad', 'high school')\n",
    "data.education = data.education.replace([' Assoc-voc', ' Assoc-acdm', ' Prof-school', ' Some-college'], 'higher')\n",
    "data.education = data.education.replace(' Bachelors', 'undergrad')\n",
    "data.education = data.education.replace(' Masters', 'grad')\n",
    "data.education = data.education.replace(' Doctorate', 'doc')"
   ]
  },
  {
   "cell_type": "code",
   "execution_count": null,
   "id": "99a9d35e",
   "metadata": {},
   "outputs": [],
   "source": [
    "test.education = test.education.replace([' Preschool', ' 1st-4th', ' 5th-6th', ' 7th-8th', ' 9th',' 10th', ' 11th', ' 12th'], 'school')\n",
    "test.education = test.education.replace(' HS-grad', 'high school')\n",
    "test.education = test.education.replace([' Assoc-voc', ' Assoc-acdm', ' Prof-school', ' Some-college'], 'higher')\n",
    "test.education = test.education.replace(' Bachelors', 'undergrad')\n",
    "test.education = test.education.replace(' Masters', 'grad')\n",
    "test.education = test.education.replace(' Doctorate', 'doc')"
   ]
  },
  {
   "cell_type": "code",
   "execution_count": null,
   "id": "09295f7a",
   "metadata": {},
   "outputs": [],
   "source": [
    "# Normalizing values in marital-status"
   ]
  },
  {
   "cell_type": "code",
   "execution_count": null,
   "id": "88c0a039",
   "metadata": {},
   "outputs": [],
   "source": [
    "data['marital-status']= data['marital-status'].replace([' Married-civ-spouse', ' Married-AF-spouse'], 'married')\n",
    "data['marital-status']= data['marital-status'].replace([' Never-married'], 'not-married')\n",
    "data['marital-status']= data['marital-status'].replace([' Divorced', ' Separated',' Widowed', ' Married-spouse-absent'], 'other')"
   ]
  },
  {
   "cell_type": "code",
   "execution_count": null,
   "id": "51e430ad",
   "metadata": {},
   "outputs": [],
   "source": [
    "test['marital-status']= test['marital-status'].replace([' Married-civ-spouse', ' Married-AF-spouse'], 'married')\n",
    "test['marital-status']= test['marital-status'].replace([' Never-married'], 'not-married')\n",
    "test['marital-status']= test['marital-status'].replace([' Divorced', ' Separated',' Widowed', ' Married-spouse-absent'], 'other')"
   ]
  },
  {
   "cell_type": "code",
   "execution_count": null,
   "id": "9f656a86",
   "metadata": {},
   "outputs": [],
   "source": [
    "# Normalizing values in income"
   ]
  },
  {
   "cell_type": "code",
   "execution_count": null,
   "id": "17d16523",
   "metadata": {},
   "outputs": [],
   "source": [
    "data.income = data.income.replace(' <=50K', 0)\n",
    "data.income = data.income.replace(' >50K', 1)"
   ]
  },
  {
   "cell_type": "code",
   "execution_count": null,
   "id": "4ec1cbd4",
   "metadata": {},
   "outputs": [],
   "source": [
    "test.income = test.income.replace(' <=50K', 0)\n",
    "test.income = test.income.replace(' >50K', 1)"
   ]
  },
  {
   "cell_type": "code",
   "execution_count": null,
   "id": "7b906190",
   "metadata": {},
   "outputs": [],
   "source": [
    "# Now checking values in marital-status after normalization"
   ]
  },
  {
   "cell_type": "code",
   "execution_count": null,
   "id": "8dbbdc2d",
   "metadata": {},
   "outputs": [],
   "source": [
    "data['marital-status'].value_counts()"
   ]
  },
  {
   "cell_type": "code",
   "execution_count": null,
   "id": "8b450d11",
   "metadata": {},
   "outputs": [],
   "source": [
    "# Now checking values in education after normalization"
   ]
  },
  {
   "cell_type": "code",
   "execution_count": null,
   "id": "9d2c6048",
   "metadata": {},
   "outputs": [],
   "source": [
    "data['education'].value_counts()"
   ]
  },
  {
   "cell_type": "code",
   "execution_count": null,
   "id": "4ba52bdd",
   "metadata": {},
   "outputs": [],
   "source": [
    "# Now checking values in occupation after removing ? values"
   ]
  },
  {
   "cell_type": "code",
   "execution_count": null,
   "id": "927c79e7",
   "metadata": {},
   "outputs": [],
   "source": [
    "data['occupation'].value_counts()"
   ]
  },
  {
   "cell_type": "markdown",
   "id": "4fc63ef6",
   "metadata": {},
   "source": [
    "### Getting data ready for model "
   ]
  },
  {
   "cell_type": "code",
   "execution_count": null,
   "id": "55241457",
   "metadata": {},
   "outputs": [],
   "source": [
    "# storing all the values other than income in x\n",
    "# storing the income column in y"
   ]
  },
  {
   "cell_type": "code",
   "execution_count": null,
   "id": "c0a26466",
   "metadata": {},
   "outputs": [],
   "source": [
    "x_train = data.drop(['income'],axis=1)\n",
    "y_train = data['income']"
   ]
  },
  {
   "cell_type": "code",
   "execution_count": null,
   "id": "3c5e34c5",
   "metadata": {},
   "outputs": [],
   "source": [
    "x_test = test.drop(['income'],axis=1)\n",
    "y_test = test['income']"
   ]
  },
  {
   "cell_type": "code",
   "execution_count": null,
   "id": "2111fe4c",
   "metadata": {},
   "outputs": [],
   "source": [
    "# duplicating the current dataset and transforming it into numeric values"
   ]
  },
  {
   "cell_type": "code",
   "execution_count": null,
   "id": "b47e1b4b",
   "metadata": {},
   "outputs": [],
   "source": [
    "data1= data.copy()\n",
    "data1= data1.apply(LabelEncoder().fit_transform)\n",
    "data1.head()"
   ]
  },
  {
   "cell_type": "code",
   "execution_count": null,
   "id": "5e1ce9ce",
   "metadata": {},
   "outputs": [],
   "source": [
    "test1= test.copy()\n",
    "test1= test1.apply(LabelEncoder().fit_transform)\n",
    "test1.head()"
   ]
  },
  {
   "cell_type": "code",
   "execution_count": null,
   "id": "c03a7015",
   "metadata": {},
   "outputs": [],
   "source": [
    "# scalling the data "
   ]
  },
  {
   "cell_type": "code",
   "execution_count": null,
   "id": "c16c5941",
   "metadata": {},
   "outputs": [],
   "source": [
    "ss= StandardScaler().fit(data1.drop('income', axis=1))\n",
    "x_train = ss.transform(data1.drop('income', axis=1))\n",
    "y_train = data1['income']\n",
    "# print(x)"
   ]
  },
  {
   "cell_type": "code",
   "execution_count": null,
   "id": "482c11d5",
   "metadata": {},
   "outputs": [],
   "source": [
    "x_test = ss.transform(test1.drop('income', axis=1))\n",
    "y_test = test1['income']"
   ]
  },
  {
   "cell_type": "markdown",
   "id": "ec08b77b",
   "metadata": {},
   "source": [
    "## Logistic Regression"
   ]
  },
  {
   "cell_type": "code",
   "execution_count": null,
   "id": "21333398",
   "metadata": {},
   "outputs": [],
   "source": [
    "lr_model = LogisticRegression()"
   ]
  },
  {
   "cell_type": "code",
   "execution_count": null,
   "id": "61b939ff",
   "metadata": {},
   "outputs": [],
   "source": [
    "model = lr_model.fit(x_train, y_train)"
   ]
  },
  {
   "cell_type": "code",
   "execution_count": null,
   "id": "b823dc33",
   "metadata": {},
   "outputs": [],
   "source": [
    "# Predicting the test class"
   ]
  },
  {
   "cell_type": "code",
   "execution_count": null,
   "id": "d121559f",
   "metadata": {},
   "outputs": [],
   "source": [
    "prediction_lr = model.predict(x_test)"
   ]
  },
  {
   "cell_type": "code",
   "execution_count": null,
   "id": "75de4675",
   "metadata": {},
   "outputs": [],
   "source": [
    "print(\"Acc on training data: {:,.3f}\".format(lr_model.score(x_train, y_train)))\n",
    "print(\"Acc on test data: {:,.3f}\".format(lr_model.score(x_test, y_test)))"
   ]
  },
  {
   "cell_type": "code",
   "execution_count": null,
   "id": "3e37faf3",
   "metadata": {},
   "outputs": [],
   "source": [
    "confusion_matrix(y_test, prediction_lr)"
   ]
  },
  {
   "cell_type": "code",
   "execution_count": null,
   "id": "8be733d3",
   "metadata": {},
   "outputs": [],
   "source": [
    "# Precision tp/(tp+fp)\n",
    "print('Precision =' , 11483/(11483+1816))"
   ]
  },
  {
   "cell_type": "code",
   "execution_count": null,
   "id": "298b9be5",
   "metadata": {},
   "outputs": [],
   "source": [
    "# recall= tp/tp+fn\n",
    "print('Recall =', 11483/(11483+951))"
   ]
  },
  {
   "cell_type": "markdown",
   "id": "c684157c",
   "metadata": {},
   "source": [
    "## knn algorithm"
   ]
  },
  {
   "cell_type": "code",
   "execution_count": null,
   "id": "5bd09436",
   "metadata": {},
   "outputs": [],
   "source": [
    "knn = KNeighborsClassifier(n_neighbors=3)"
   ]
  },
  {
   "cell_type": "code",
   "execution_count": null,
   "id": "8f66d407",
   "metadata": {},
   "outputs": [],
   "source": [
    "knn.fit(x_train, y_train)"
   ]
  },
  {
   "cell_type": "code",
   "execution_count": null,
   "id": "a50c441a",
   "metadata": {},
   "outputs": [],
   "source": [
    "prediction_knn = knn.predict(x_test)\n",
    "prediction_knn"
   ]
  },
  {
   "cell_type": "code",
   "execution_count": null,
   "id": "23d6c13a",
   "metadata": {},
   "outputs": [],
   "source": [
    "print(\"Acc on training data: {:,.3f}\".format(knn.score(x_train, y_train)))\n",
    "print(\"Acc on test data: {:,.3f}\".format(knn.score(x_test, y_test)))"
   ]
  },
  {
   "cell_type": "code",
   "execution_count": null,
   "id": "0d8a532b",
   "metadata": {},
   "outputs": [],
   "source": [
    "confusion_matrix(y_test, prediction_knn)"
   ]
  },
  {
   "cell_type": "code",
   "execution_count": null,
   "id": "dfd8a045",
   "metadata": {},
   "outputs": [],
   "source": [
    "# Precision tp/(tp+fp)\n",
    "print('Precision =' , 11395/(11395+2433))"
   ]
  },
  {
   "cell_type": "code",
   "execution_count": null,
   "id": "6dd5463f",
   "metadata": {},
   "outputs": [],
   "source": [
    "# recall= tp/tp+fn\n",
    "print('Recall =',  11395/(11395+1039))"
   ]
  }
 ],
 "metadata": {
  "kernelspec": {
   "display_name": "Python 3 (ipykernel)",
   "language": "python",
   "name": "python3"
  },
  "language_info": {
   "codemirror_mode": {
    "name": "ipython",
    "version": 3
   },
   "file_extension": ".py",
   "mimetype": "text/x-python",
   "name": "python",
   "nbconvert_exporter": "python",
   "pygments_lexer": "ipython3",
   "version": "3.9.6"
  }
 },
 "nbformat": 4,
 "nbformat_minor": 5
}
